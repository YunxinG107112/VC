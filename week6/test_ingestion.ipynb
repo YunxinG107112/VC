{
 "cells": [
  {
   "cell_type": "code",
   "execution_count": 54,
   "id": "3befba80",
   "metadata": {},
   "outputs": [],
   "source": [
    "import pandas as pd\n",
    "import time\n",
    "\n",
    "# Pandas\n",
    "start_time = time.time()\n",
    "df_pandas = pd.read_csv('/Users/elenayun/Desktop/DG/test_data.csv',index_col=0)\n",
    "pandas_time = time.time() - start_time"
   ]
  },
  {
   "cell_type": "code",
   "execution_count": 55,
   "id": "0ff600ef",
   "metadata": {},
   "outputs": [],
   "source": [
    "import dask.dataframe as dd\n",
    "\n",
    "# Dask\n",
    "start_time = time.time()\n",
    "df_dask = dd.read_csv('/Users/elenayun/Desktop/DG/test_data.csv')\n",
    "dask_time = time.time() - start_time"
   ]
  },
  {
   "cell_type": "code",
   "execution_count": 58,
   "id": "4df7f38d",
   "metadata": {},
   "outputs": [
    {
     "name": "stderr",
     "output_type": "stream",
     "text": [
      "2023-08-16 11:03:01,612\tINFO worker.py:1621 -- Started a local Ray instance.\n",
      "2023-08-16 11:03:03,544\tINFO read_api.py:374 -- To satisfy the requested parallelism of 16, each read task output will be split into 16 smaller blocks.\n"
     ]
    }
   ],
   "source": [
    "import ray\n",
    "from ray.data import read_csv\n",
    "\n",
    "\n",
    "# Ray\n",
    "ray.init(ignore_reinit_error=True)\n",
    "start_time = time.time()\n",
    "\n",
    "df_ray = read_csv('/Users/elenayun/Desktop/DG/test_data.csv')\n",
    "ray_time = time.time() - start_time\n",
    "ray.shutdown()"
   ]
  },
  {
   "cell_type": "code",
   "execution_count": 59,
   "id": "e50c0738",
   "metadata": {},
   "outputs": [
    {
     "name": "stdout",
     "output_type": "stream",
     "text": [
      "Pandas Time: 0.011242866516113281\n",
      "Dask Time: 0.012354135513305664\n",
      "Ray Time: 0.5744607448577881\n"
     ]
    }
   ],
   "source": [
    "# Compute Execution\n",
    "print(\"Pandas Time:\", pandas_time)\n",
    "print(\"Dask Time:\", dask_time)\n",
    "print(\"Ray Time:\", ray_time)"
   ]
  },
  {
   "cell_type": "code",
   "execution_count": 61,
   "id": "21401816",
   "metadata": {},
   "outputs": [
    {
     "name": "stderr",
     "output_type": "stream",
     "text": [
      "FutureWarning: The default value of regex will change from True to False in a future version.\n"
     ]
    }
   ],
   "source": [
    "# Remove special characters and white space\n",
    "df_pandas.columns = df_pandas.columns.str.replace('[^\\w\\s]', '').str.strip()"
   ]
  },
  {
   "cell_type": "code",
   "execution_count": 45,
   "id": "21a9e499",
   "metadata": {},
   "outputs": [
    {
     "name": "stdout",
     "output_type": "stream",
     "text": [
      "Columns are valid.\n"
     ]
    }
   ],
   "source": [
    "\n",
    "import yaml\n",
    "\n",
    "# Load YAML schema\n",
    "with open('/Users/elenayun/Desktop/DG/column_names.yaml') as yaml_file:\n",
    "    yaml_data = yaml.safe_load(yaml_file)\n",
    "\n",
    "# Validate Pandas DataFrame\n",
    "expected_columns = yaml_data['columns']\n",
    "if len(df_pandas.columns) == len(expected_columns) and all(col in df_pandas.columns for col in expected_columns):\n",
    "    print(\"Columns are valid.\")\n",
    "else:\n",
    "    print(\"Columns do not match expected values.\")"
   ]
  },
  {
   "cell_type": "code",
   "execution_count": 46,
   "id": "d711362c",
   "metadata": {},
   "outputs": [],
   "source": [
    "# Write the DataFrame to a pipe-separated text file in gz format\n",
    "df_pandas.to_csv('test_data_pipe_delimited.gz', sep='|', compression='gzip', index=False)"
   ]
  },
  {
   "cell_type": "code",
   "execution_count": 62,
   "id": "018e508f",
   "metadata": {},
   "outputs": [
    {
     "data": {
      "text/html": [
       "<div>\n",
       "<style scoped>\n",
       "    .dataframe tbody tr th:only-of-type {\n",
       "        vertical-align: middle;\n",
       "    }\n",
       "\n",
       "    .dataframe tbody tr th {\n",
       "        vertical-align: top;\n",
       "    }\n",
       "\n",
       "    .dataframe thead th {\n",
       "        text-align: right;\n",
       "    }\n",
       "</style>\n",
       "<table border=\"1\" class=\"dataframe\">\n",
       "  <thead>\n",
       "    <tr style=\"text-align: right;\">\n",
       "      <th></th>\n",
       "      <th>First Name</th>\n",
       "      <th>Last Name</th>\n",
       "      <th>Age</th>\n",
       "      <th>Salary</th>\n",
       "    </tr>\n",
       "  </thead>\n",
       "  <tbody>\n",
       "    <tr>\n",
       "      <th>0</th>\n",
       "      <td>John</td>\n",
       "      <td>Doe</td>\n",
       "      <td>25</td>\n",
       "      <td>50000</td>\n",
       "    </tr>\n",
       "    <tr>\n",
       "      <th>1</th>\n",
       "      <td>Jane</td>\n",
       "      <td>Smith</td>\n",
       "      <td>30</td>\n",
       "      <td>60000</td>\n",
       "    </tr>\n",
       "    <tr>\n",
       "      <th>2</th>\n",
       "      <td>Michael</td>\n",
       "      <td>Williams</td>\n",
       "      <td>28</td>\n",
       "      <td>55000</td>\n",
       "    </tr>\n",
       "  </tbody>\n",
       "</table>\n",
       "</div>"
      ],
      "text/plain": [
       "  First Name Last Name  Age  Salary\n",
       "0       John       Doe   25   50000\n",
       "1       Jane     Smith   30   60000\n",
       "2    Michael  Williams   28   55000"
      ]
     },
     "execution_count": 62,
     "metadata": {},
     "output_type": "execute_result"
    }
   ],
   "source": [
    "df_pandas"
   ]
  },
  {
   "cell_type": "code",
   "execution_count": null,
   "id": "ea28157f",
   "metadata": {},
   "outputs": [],
   "source": []
  }
 ],
 "metadata": {
  "kernelspec": {
   "display_name": "Python 3",
   "language": "python",
   "name": "python3"
  },
  "language_info": {
   "codemirror_mode": {
    "name": "ipython",
    "version": 3
   },
   "file_extension": ".py",
   "mimetype": "text/x-python",
   "name": "python",
   "nbconvert_exporter": "python",
   "pygments_lexer": "ipython3",
   "version": "3.8.8"
  }
 },
 "nbformat": 4,
 "nbformat_minor": 5
}
